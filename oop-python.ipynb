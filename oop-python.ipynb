{
 "cells": [
  {
   "cell_type": "markdown",
   "id": "8f6db86c",
   "metadata": {},
   "source": [
    "### Chapter 1 OOP Fundamentals"
   ]
  },
  {
   "cell_type": "code",
   "execution_count": 1,
   "id": "514317b0",
   "metadata": {},
   "outputs": [],
   "source": [
    "class MyCounter:\n",
    "    def set_count(self, n):\n",
    "        self.count = n"
   ]
  },
  {
   "cell_type": "code",
   "execution_count": 2,
   "id": "040b66d1",
   "metadata": {},
   "outputs": [
    {
     "name": "stdout",
     "output_type": "stream",
     "text": [
      "6\n"
     ]
    }
   ],
   "source": [
    "mc = MyCounter()\n",
    "mc.set_count(5)\n",
    "mc.count = mc.count + 1\n",
    "print(mc.count)"
   ]
  },
  {
   "cell_type": "code",
   "execution_count": 3,
   "id": "ce285922",
   "metadata": {},
   "outputs": [],
   "source": [
    "class Employee:\n",
    "    def set_name(self, new_name):\n",
    "        self.name = new_name\n",
    "    \n",
    "    def set_salary(self, new_salary):\n",
    "        self.salary = new_salary"
   ]
  },
  {
   "cell_type": "code",
   "execution_count": 4,
   "id": "30e4168b",
   "metadata": {},
   "outputs": [
    {
     "name": "stdout",
     "output_type": "stream",
     "text": [
      "50000\n"
     ]
    }
   ],
   "source": [
    "emp = Employee()\n",
    "emp.set_name(\"'Korel Rossi'\")\n",
    "emp.set_salary(50000)\n",
    "print(emp.salary)"
   ]
  },
  {
   "cell_type": "code",
   "execution_count": 5,
   "id": "31442d5c",
   "metadata": {},
   "outputs": [
    {
     "data": {
      "text/plain": [
       "['__class__',\n",
       " '__delattr__',\n",
       " '__dict__',\n",
       " '__dir__',\n",
       " '__doc__',\n",
       " '__eq__',\n",
       " '__format__',\n",
       " '__ge__',\n",
       " '__getattribute__',\n",
       " '__getstate__',\n",
       " '__gt__',\n",
       " '__hash__',\n",
       " '__init__',\n",
       " '__init_subclass__',\n",
       " '__le__',\n",
       " '__lt__',\n",
       " '__module__',\n",
       " '__ne__',\n",
       " '__new__',\n",
       " '__reduce__',\n",
       " '__reduce_ex__',\n",
       " '__repr__',\n",
       " '__setattr__',\n",
       " '__sizeof__',\n",
       " '__str__',\n",
       " '__subclasshook__',\n",
       " '__weakref__',\n",
       " 'name',\n",
       " 'salary',\n",
       " 'set_name',\n",
       " 'set_salary']"
      ]
     },
     "execution_count": 5,
     "metadata": {},
     "output_type": "execute_result"
    }
   ],
   "source": [
    "dir(emp)"
   ]
  },
  {
   "cell_type": "markdown",
   "id": "7defe40c",
   "metadata": {},
   "source": [
    "### Using attributes in class definition"
   ]
  },
  {
   "cell_type": "code",
   "execution_count": 6,
   "id": "7b5845bb",
   "metadata": {},
   "outputs": [],
   "source": [
    "class Employee:\n",
    "    def set_name(self, new_name):\n",
    "        self.name = new_name\n",
    "\n",
    "    def set_salary(self, new_salary):\n",
    "        self.salary = new_salary \n",
    "\n",
    "    def give_raise(self, amount):\n",
    "        self.salary = self.salary + amount\n",
    "\n",
    "    def monthly_salary(self):\n",
    "        return self.salary / 12"
   ]
  },
  {
   "cell_type": "code",
   "execution_count": 7,
   "id": "087a90be",
   "metadata": {},
   "outputs": [
    {
     "name": "stdout",
     "output_type": "stream",
     "text": [
      "4166.666666666667\n"
     ]
    }
   ],
   "source": [
    "emp = Employee()\n",
    "emp.set_name('Korel Rossi')\n",
    "emp.set_salary(50000)\n",
    "\n",
    "mon_sal = emp.monthly_salary()\n",
    "print(mon_sal)"
   ]
  },
  {
   "cell_type": "markdown",
   "id": "907b1862",
   "metadata": {},
   "source": [
    "### Add a class constructor"
   ]
  },
  {
   "cell_type": "code",
   "execution_count": 8,
   "id": "5b3dcbdf",
   "metadata": {},
   "outputs": [
    {
     "name": "stdout",
     "output_type": "stream",
     "text": [
      "Korel Rossi\n",
      "0\n"
     ]
    }
   ],
   "source": [
    "class Employee:\n",
    "    def __init__(self, name, salary=0):\n",
    "        self.name = name\n",
    "        self.salary = salary\n",
    "\n",
    "    def give_raise(self, amount):\n",
    "        self.salary += amount\n",
    "\n",
    "    def monthly_salary(self):\n",
    "        return self.salary/12\n",
    "        \n",
    "emp = Employee(\"Korel Rossi\")\n",
    "print(emp.name)\n",
    "print(emp.salary)     "
   ]
  },
  {
   "cell_type": "code",
   "execution_count": 9,
   "id": "30c7c4a6",
   "metadata": {},
   "outputs": [
    {
     "name": "stdout",
     "output_type": "stream",
     "text": [
      "Invalid salary!\n",
      "Korel Rossi\n",
      "2024-08-15 12:37:29.984061\n"
     ]
    }
   ],
   "source": [
    "from datetime import datetime\n",
    "\n",
    "class Employee:\n",
    "    \n",
    "    def __init__(self, name, salary=0):\n",
    "        self.name = name\n",
    "        if salary > 0:\n",
    "            self.salary = salary\n",
    "        else:\n",
    "            self.salary = 0\n",
    "            print(\"Invalid salary!\")\n",
    "          \n",
    "        self.hire_date = datetime.today()\n",
    "\n",
    "\n",
    "emp = Employee(\"Korel Rossi\")\n",
    "print(emp.name)\n",
    "print(emp.hire_date)"
   ]
  },
  {
   "cell_type": "markdown",
   "id": "0ef48456",
   "metadata": {},
   "source": [
    "### Write a class from scratch"
   ]
  },
  {
   "cell_type": "code",
   "execution_count": 10,
   "id": "a8d0f595",
   "metadata": {},
   "outputs": [],
   "source": [
    "import numpy as np\n",
    "\n",
    "class Point:\n",
    "    def __init__(self, x=0.0, y=0.0):\n",
    "        self.x = x\n",
    "        self.y = y\n",
    "    \n",
    "    def distance_to_origin(self):\n",
    "        return np.sqrt(self.x**2 + self.y**2)\n",
    "    \n",
    "    def reflect(self, axis):\n",
    "        if axis == \"x\":\n",
    "            self.y = -self.y \n",
    "        if axis == \"y\":\n",
    "            self.x = -self.x \n",
    "        else:\n",
    "            print(\"Error\")"
   ]
  },
  {
   "cell_type": "code",
   "execution_count": 11,
   "id": "53a05fbf",
   "metadata": {},
   "outputs": [
    {
     "name": "stdout",
     "output_type": "stream",
     "text": [
      "(-3.0, 0.0)\n",
      "5.0\n"
     ]
    }
   ],
   "source": [
    "pt = Point(x=3.0)\n",
    "pt.reflect(\"y\")\n",
    "print((pt.x, pt.y))\n",
    "pt.y = 4.0\n",
    "print(pt.distance_to_origin())"
   ]
  },
  {
   "cell_type": "markdown",
   "id": "84c87c75",
   "metadata": {},
   "source": [
    "### Chapter 2 Inheritance and Polymorphism"
   ]
  },
  {
   "cell_type": "markdown",
   "id": "210da6aa",
   "metadata": {},
   "source": [
    "### Class-level attributes"
   ]
  },
  {
   "cell_type": "markdown",
   "id": "dd1f5dc3",
   "metadata": {},
   "source": [
    "Class attributes store data that is shared among all the class instances. They are assigned values in the class body, and are referred to using the *ClassName*. syntax rather than self. syntax when used in methods.\n",
    "\n",
    "In this exercise, you will be a game developer working on a game that will have several players moving on a grid and interacting with each other. As the first step, you want to define a *Player* class that will just move along a straight line. *Player* will have a *position* attribute and a *move()* method. The grid is limited, so the position of Player will have a maximal value."
   ]
  },
  {
   "cell_type": "code",
   "execution_count": 12,
   "id": "a807d65b",
   "metadata": {},
   "outputs": [
    {
     "name": "stdout",
     "output_type": "stream",
     "text": [
      "10\n",
      "10\n"
     ]
    }
   ],
   "source": [
    "# Create a Player class\n",
    "class Player:\n",
    "    MAX_POSITION = 10\n",
    "    \n",
    "    def __init__(self):\n",
    "        self.position = 0\n",
    "\n",
    "# Print Player.MAX_POSITION  \n",
    "print(Player.MAX_POSITION)   \n",
    "\n",
    "# Create a player p and print its MAX_POSITITON\n",
    "p = Player()\n",
    "print(p.MAX_POSITION)"
   ]
  },
  {
   "cell_type": "code",
   "execution_count": 13,
   "id": "7844b3c5",
   "metadata": {},
   "outputs": [
    {
     "name": "stdout",
     "output_type": "stream",
     "text": [
      "|----------\n",
      "----|------\n",
      "---------|-\n",
      "----------|\n"
     ]
    }
   ],
   "source": [
    "class Player:\n",
    "    MAX_POSITION = 10\n",
    "    MAX_SPEED = 3\n",
    "    \n",
    "    def __init__(self):\n",
    "        self.position = 0\n",
    "\n",
    "    # Add a move() method with steps parameter     \n",
    "    def move(self, steps):\n",
    "        if self.position + steps < Player.MAX_POSITION:\n",
    "            self.position = self.position + steps \n",
    "        else:\n",
    "            self.position = Player.MAX_POSITION\n",
    "    \n",
    "    # This method provides a rudimentary visualization in the console    \n",
    "    def draw(self):\n",
    "        drawing = \"-\" * self.position + \"|\" +\"-\"*(Player.MAX_POSITION - self.position)\n",
    "        print(drawing)\n",
    "\n",
    "p = Player(); p.draw()\n",
    "p.move(4); p.draw()\n",
    "p.move(5); p.draw()\n",
    "p.move(3); p.draw()"
   ]
  },
  {
   "cell_type": "markdown",
   "id": "1477faba",
   "metadata": {},
   "source": [
    "### Alternative constructors"
   ]
  },
  {
   "cell_type": "markdown",
   "id": "5d578d8c",
   "metadata": {},
   "source": [
    "Python allows you to define class methods as well, using the **@classmethod** decorator and a special first argument **cls**. The main use of class methods is defining methods that return an instance of the class, but aren't using the same code as \\__init\\__().\n",
    "\n",
    "For example, you are developing a time series package and want to define your own class for working with dates, **BetterDate**. The attributes of the class will be *year*, *month*, and *day*. You want to have a constructor that creates BetterDate objects given the values for year, month, and day, but you also want to be able to create BetterDate objects from strings like 2020-04-30.\n",
    "\n",
    "You might find the following functions useful:\n",
    "\n",
    "- .split(\"-\") method will split a string at\"-\" into an array, e.g. \"2020-04-30\".split(\"-\") returns [\"2020\", \"04\", \"30\"],\n",
    "- int() will convert a string into a number, e.g. int(\"2019\") is 2019."
   ]
  },
  {
   "cell_type": "code",
   "execution_count": 14,
   "id": "13305b10",
   "metadata": {},
   "outputs": [
    {
     "name": "stdout",
     "output_type": "stream",
     "text": [
      "2020\n",
      "4\n",
      "30\n"
     ]
    }
   ],
   "source": [
    "class BetterDate:\n",
    "    # Constructor\n",
    "    def __init__(self, year, month, day):\n",
    "      # Recall that Python allows multiple variable assignments in one line\n",
    "      self.year, self.month, self.day = year, month, day\n",
    "    \n",
    "    # Define a class method from_str\n",
    "    @classmethod\n",
    "    def from_str(cls, datestr):\n",
    "         # Split the string at \"-\" and  convert each part to integer\n",
    "        parts = datestr.split(\"-\")\n",
    "        year, month, day = int(parts[0]), int(parts[1]), int(parts[2])\n",
    "        # Return the class instance\n",
    "        return cls(year, month, day)\n",
    "        \n",
    "bd = BetterDate.from_str('2020-04-30')   \n",
    "print(bd.year)\n",
    "print(bd.month)\n",
    "print(bd.day)"
   ]
  },
  {
   "cell_type": "code",
   "execution_count": 15,
   "id": "27ea8d79",
   "metadata": {},
   "outputs": [
    {
     "name": "stdout",
     "output_type": "stream",
     "text": [
      "2024\n",
      "8\n",
      "15\n"
     ]
    }
   ],
   "source": [
    "# import datetime from datetime\n",
    "from datetime import datetime\n",
    "\n",
    "class BetterDate:\n",
    "    def __init__(self, year, month, day):\n",
    "      self.year, self.month, self.day = year, month, day\n",
    "      \n",
    "    @classmethod\n",
    "    def from_str(cls, datestr):\n",
    "        year, month, day = map(int, datestr.split(\"-\"))\n",
    "        return cls(year, month, day)\n",
    "      \n",
    "    # Define a class method from_datetime accepting a datetime object\n",
    "    @classmethod\n",
    "    def from_datetime(cls, datetime):\n",
    "      year, month, day = datetime.year, datetime.month, datetime.day\n",
    "      return cls(year, month, day)\n",
    "\n",
    "# You should be able to run the code below with no errors: \n",
    "today = datetime.today()     \n",
    "bd = BetterDate.from_datetime(today)   \n",
    "print(bd.year)\n",
    "print(bd.month)\n",
    "print(bd.day)"
   ]
  },
  {
   "cell_type": "markdown",
   "id": "beac274f",
   "metadata": {},
   "source": [
    "Great work on those class methods! There's another type of methods that are not bound to a class instance - static methods, defined with the decorator **@staticmethod**. They are mainly used for helper or utility functions that could as well live outside of the class, but make more sense when bundled into the class. Static methods are beyond the scope of this class, but you can read about them [here](https://docs.python.org/3/library/functions.html#staticmethod)."
   ]
  },
  {
   "cell_type": "markdown",
   "id": "3f069c59",
   "metadata": {},
   "source": [
    "### Create a subclass"
   ]
  },
  {
   "cell_type": "markdown",
   "id": "09f386a2",
   "metadata": {},
   "source": [
    "The purpose of child classes -- or sub-classes, as they are usually called - is to customize and extend functionality of the parent class.\n",
    "\n",
    "Recall the *Employee* class from earlier in the course. In most organizations, managers enjoy more privileges and more responsibilities than a regular employee. So it would make sense to introduce a *Manager* class that has more functionality than *Employee*.\n",
    "\n",
    "But a *Manager* is still an employee, so the *Manager* class should be inherited from the *Employee* class."
   ]
  },
  {
   "cell_type": "code",
   "execution_count": 16,
   "id": "dc0f3393",
   "metadata": {},
   "outputs": [
    {
     "name": "stdout",
     "output_type": "stream",
     "text": [
      "Debbie Lashko\n",
      "Manager  Debbie Lashko\n"
     ]
    }
   ],
   "source": [
    "class Employee:\n",
    "    MIN_SALARY = 30000    \n",
    "\n",
    "    def __init__(self, name, salary=MIN_SALARY):\n",
    "        self.name = name\n",
    "        if salary >= Employee.MIN_SALARY:\n",
    "            self.salary = salary\n",
    "        else:\n",
    "            self.salary = Employee.MIN_SALARY\n",
    "        \n",
    "    def give_raise(self, amount):\n",
    "        self.salary += amount\n",
    "\n",
    "        \n",
    "# MODIFY Manager class and add a display method\n",
    "class Manager(Employee):\n",
    "    def display(self):\n",
    "        print(\"Manager \", self.name)\n",
    "\n",
    "\n",
    "mng = Manager(\"Debbie Lashko\", 86500)\n",
    "print(mng.name)\n",
    "\n",
    "# Call mng.display()\n",
    "mng.display()"
   ]
  },
  {
   "cell_type": "markdown",
   "id": "117522b0",
   "metadata": {},
   "source": [
    "Excellent! You already started customizing! The Manager class now includes functionality that wasn't present in the original class (the display() function) in addition to all the functionality of the Employee class. Notice that there wasn't anything special about adding this new method."
   ]
  },
  {
   "cell_type": "markdown",
   "id": "22d80282",
   "metadata": {},
   "source": [
    "### Method inheritance"
   ]
  },
  {
   "cell_type": "markdown",
   "id": "1e6fc6b2",
   "metadata": {},
   "source": [
    "Inheritance is powerful because it allows us to reuse and customize code without rewriting existing code. By calling methods of the parent class within the child class, we reuse all the code in those methods, making our code concise and manageable.\n",
    "\n",
    "In this exercise, you'll continue working with the Manager class that is inherited from the Employee class. You'll add new data to the class, and customize the give_raise() method from Chapter 1 to increase the manager's raise amount by a bonus percentage whenever they are given a raise."
   ]
  },
  {
   "cell_type": "code",
   "execution_count": 17,
   "id": "4dab0162",
   "metadata": {},
   "outputs": [
    {
     "name": "stdout",
     "output_type": "stream",
     "text": [
      "79550.0\n",
      "81610.0\n"
     ]
    }
   ],
   "source": [
    "class Employee:\n",
    "    def __init__(self, name, salary=30000):\n",
    "        self.name = name\n",
    "        self.salary = salary\n",
    "\n",
    "    def give_raise(self, amount):\n",
    "        self.salary += amount\n",
    "\n",
    "        \n",
    "class Manager(Employee):\n",
    "    def display(self):\n",
    "        print(\"Manager \", self.name)\n",
    "\n",
    "    def __init__(self, name, salary=50000, project=None):\n",
    "        Employee.__init__(self, name, salary)\n",
    "        self.project = project\n",
    "\n",
    "    # Add a give_raise method\n",
    "    def give_raise(self, amount, bonus=1.05):\n",
    "        new_amount = amount * bonus\n",
    "        Employee.give_raise(self, new_amount)\n",
    "    \n",
    "    \n",
    "mngr = Manager(\"Ashta Dunbar\", 78500)\n",
    "mngr.give_raise(1000)\n",
    "print(mngr.salary)\n",
    "mngr.give_raise(2000, bonus=1.03)\n",
    "print(mngr.salary)"
   ]
  },
  {
   "cell_type": "markdown",
   "id": "ae02b41c",
   "metadata": {},
   "source": [
    "### Inheritance of class attributes"
   ]
  },
  {
   "cell_type": "markdown",
   "id": "4ef068c4",
   "metadata": {},
   "source": [
    "In the beginning of this chapter, you learned about class attributes and methods that are shared among all the instances of a class. How do they work with inheritance?\n",
    "\n",
    "In this exercise, you'll create subclasses of the Player class from the first lesson of the chapter, and explore the inheritance of class attributes and methods."
   ]
  },
  {
   "cell_type": "code",
   "execution_count": 18,
   "id": "7b8b3fdc",
   "metadata": {},
   "outputs": [
    {
     "name": "stdout",
     "output_type": "stream",
     "text": [
      "p.MAX_SPEED =  3\n",
      "r.MAX_SPEED =  5\n",
      "p.MAX_POSITION =  10\n",
      "r.MAX_POSITION =  10\n"
     ]
    }
   ],
   "source": [
    "# Create a Racer class and set MAX_SPEED to 5\n",
    "class Racer(Player):\n",
    "    MAX_SPEED = 5\n",
    " \n",
    "# Create a Player and a Racer objects\n",
    "p = Player()\n",
    "r = Racer()\n",
    "\n",
    "print(\"p.MAX_SPEED = \", p.MAX_SPEED)\n",
    "print(\"r.MAX_SPEED = \", r.MAX_SPEED)\n",
    "\n",
    "print(\"p.MAX_POSITION = \", p.MAX_POSITION)\n",
    "print(\"r.MAX_POSITION = \", r.MAX_POSITION)"
   ]
  },
  {
   "cell_type": "markdown",
   "id": "c35fa01b",
   "metadata": {},
   "source": [
    "### Customizing a DataFrame"
   ]
  },
  {
   "cell_type": "markdown",
   "id": "b17f236a",
   "metadata": {},
   "source": [
    "In your company, any data has to come with a timestamp recording when the dataset was created, to make sure that outdated information is not being used. You would like to use pandas DataFrames for processing data, but you would need to customize the class to allow for the use of timestamps.\n",
    "\n",
    "In this exercise, you will implement a small LoggedDF class that inherits from a regular pandas DataFrame but has a created_at attribute storing the timestamp. You will then augment the standard to_csv() method to always include a column storing the creation date.\n",
    "\n",
    "Tip: all DataFrame methods have many parameters, and it is not sustainable to copy all of them for each method you're customizing. The trick is to use variable-length arguments *args and **kwargsto catch all of them."
   ]
  },
  {
   "cell_type": "code",
   "execution_count": 19,
   "id": "e81226bf",
   "metadata": {},
   "outputs": [],
   "source": [
    "# Import pandas as pd\n",
    "import pandas as pd\n",
    "\n",
    "# Define LoggedDF inherited from pd.DataFrame and add the constructor\n",
    "class LoggedDF(pd.DataFrame):\n",
    "  \n",
    "  def __init__(self, *args, **kwargs):\n",
    "    pd.DataFrame.__init__(self, *args, **kwargs)\n",
    "    self.created_at = datetime.today()\n",
    "   \n",
    "  def to_csv(self, *args, **kwargs):\n",
    "    # Copy self to a temporary DataFrame\n",
    "    temp = self.copy()\n",
    "    \n",
    "    # Create a new column filled with self.created_at\n",
    "    temp[\"created_at\"] = self.created_at\n",
    "    \n",
    "    # Call pd.DataFrame.to_csv on temp, passing in *args and **kwargs\n",
    "    pd.DataFrame.to_csv(temp, *args, **kwargs)"
   ]
  },
  {
   "cell_type": "markdown",
   "id": "3c645b32",
   "metadata": {},
   "source": [
    "Incredible work! Using *args and **kwargs allows you to not worry about keeping the signature of your customized method compatible. Notice how in the very last line, you called the parent method and passed an object to it that isn't self. When you call parent methods in the class, they should accept _some_ object as the first argument, and that object is _usually_ self, but it doesn't have to be!"
   ]
  },
  {
   "cell_type": "markdown",
   "id": "f2376775",
   "metadata": {},
   "source": [
    "## Chapter 3 Integrating with Standard Python"
   ]
  },
  {
   "cell_type": "markdown",
   "id": "583e8046",
   "metadata": {},
   "source": [
    "### Operator overloading: comparison"
   ]
  },
  {
   "cell_type": "code",
   "execution_count": 20,
   "id": "0dfc1509",
   "metadata": {},
   "outputs": [
    {
     "data": {
      "text/plain": [
       "False"
      ]
     },
     "execution_count": 20,
     "metadata": {},
     "output_type": "execute_result"
    }
   ],
   "source": [
    "class Customer:\n",
    "    def __init__(self, name, balance):\n",
    "        self.name, self.balance = name, balance\n",
    "\n",
    "customer1 = Customer(\"Maryam Azar\", 3000)\n",
    "customer2 = Customer(\"Maryam Azar\", 3000)\n",
    "customer1 == customer2"
   ]
  },
  {
   "cell_type": "code",
   "execution_count": 21,
   "id": "eb873e7c",
   "metadata": {},
   "outputs": [
    {
     "name": "stdout",
     "output_type": "stream",
     "text": [
      "<__main__.Customer object at 0x000001C6D23CEA90>\n"
     ]
    }
   ],
   "source": [
    "print(customer1)"
   ]
  },
  {
   "cell_type": "code",
   "execution_count": 22,
   "id": "d61a692f",
   "metadata": {},
   "outputs": [
    {
     "name": "stdout",
     "output_type": "stream",
     "text": [
      "<__main__.Customer object at 0x000001C6D23CE310>\n"
     ]
    }
   ],
   "source": [
    "print(customer2)"
   ]
  },
  {
   "cell_type": "code",
   "execution_count": 23,
   "id": "a62da87f",
   "metadata": {},
   "outputs": [
    {
     "data": {
      "text/plain": [
       "array([ True,  True,  True])"
      ]
     },
     "execution_count": 23,
     "metadata": {},
     "output_type": "execute_result"
    }
   ],
   "source": [
    "import numpy as np\n",
    "\n",
    "#Two different arrays containing the same data\n",
    "array1 = np.array([1,2,3])\n",
    "array2 = np.array([1,2,3])\n",
    "\n",
    "array1 == array2"
   ]
  },
  {
   "cell_type": "markdown",
   "id": "467d54d6",
   "metadata": {},
   "source": [
    "**Overloading \\__eq\\__()**\n",
    "- \\__eq\\__() is called when 2 objects of a class are compared using ==\n",
    "- accepts 2 arguments, *self* and *other* - objects to compare\n",
    "- returns a Boolean"
   ]
  },
  {
   "cell_type": "code",
   "execution_count": 24,
   "id": "cf6ad68b",
   "metadata": {},
   "outputs": [],
   "source": [
    "class Customer:\n",
    "    def __init__(self, id, name):\n",
    "        self.id, self.name = id, name\n",
    "    #Will be called when == is used\n",
    "    def __eq__(self, other):\n",
    "        #Diagnostic printout\n",
    "        print(\"__eq__() is called\")\n",
    "        \n",
    "        #Returns True if all attributes match\n",
    "        return (self.id == other.id) and (self.name == other.name)"
   ]
  },
  {
   "cell_type": "code",
   "execution_count": 25,
   "id": "5aaad1c4",
   "metadata": {},
   "outputs": [
    {
     "name": "stdout",
     "output_type": "stream",
     "text": [
      "__eq__() is called\n"
     ]
    },
    {
     "data": {
      "text/plain": [
       "True"
      ]
     },
     "execution_count": 25,
     "metadata": {},
     "output_type": "execute_result"
    }
   ],
   "source": [
    "# Two equal objects\n",
    "\n",
    "customer1 = Customer(123, \"Maryam Azar\")\n",
    "customer2 = Customer(123, \"Maryam Azar\")\n",
    "\n",
    "customer1 == customer2"
   ]
  },
  {
   "cell_type": "code",
   "execution_count": 26,
   "id": "b50e517c",
   "metadata": {},
   "outputs": [
    {
     "name": "stdout",
     "output_type": "stream",
     "text": [
      "__eq__() is called\n"
     ]
    },
    {
     "data": {
      "text/plain": [
       "False"
      ]
     },
     "execution_count": 26,
     "metadata": {},
     "output_type": "execute_result"
    }
   ],
   "source": [
    "# Two unequal objects - different ids\n",
    "\n",
    "customer1 = Customer(123, \"Maryam Azar\")\n",
    "customer2 = Customer(456, \"Maryam Azar\")\n",
    "\n",
    "customer1 == customer2"
   ]
  },
  {
   "cell_type": "markdown",
   "id": "5ffd91e0",
   "metadata": {},
   "source": [
    "**Other comparison operators**\n",
    "\n",
    "- ==     \\__eq\\__()\n",
    "- !=     \\__ne\\__()\n",
    "- \\>=     \\__ge\\__()\n",
    "- \\<=     \\__le\\__()\n",
    "- \\>     \\__gt\\__()\n",
    "- \\<     \\__lt\\__()"
   ]
  },
  {
   "cell_type": "markdown",
   "id": "29793675",
   "metadata": {},
   "source": [
    "\\__hash\\__() to use objects as dictionary keys and in sets"
   ]
  },
  {
   "cell_type": "markdown",
   "id": "3f266c1f",
   "metadata": {},
   "source": [
    "### Overloading equality"
   ]
  },
  {
   "cell_type": "markdown",
   "id": "1b85b550",
   "metadata": {},
   "source": [
    "When comparing two objects of a custom class using ==, Python by default compares just the object references, not the data contained in the objects. To override this behavior, the class can implement the special **\\__eq\\__()** method, which accepts two arguments -- the objects to be compared -- and returns **True** or **False**. This method will be implicitly called when two objects are compared."
   ]
  },
  {
   "cell_type": "code",
   "execution_count": 27,
   "id": "3296d56e",
   "metadata": {},
   "outputs": [
    {
     "name": "stdout",
     "output_type": "stream",
     "text": [
      "True\n",
      "False\n"
     ]
    }
   ],
   "source": [
    "class BankAccount:\n",
    "   # MODIFY to initialize a number attribute\n",
    "    def __init__(self, number, balance=0):\n",
    "        self.balance = balance\n",
    "        self.number = number\n",
    "\n",
    "    def withdraw(self, amount):\n",
    "        self.balance -= amount \n",
    "    \n",
    "    # Define __eq__ that returns True if the number attributes are equal \n",
    "    def __eq__(self, other):\n",
    "        return self.number == other.number   \n",
    "\n",
    "# Create accounts and compare them       \n",
    "acct1 = BankAccount(123, 1000)\n",
    "acct2 = BankAccount(123, 1000)\n",
    "acct3 = BankAccount(456, 1000)\n",
    "print(acct1 == acct2)\n",
    "print(acct1 == acct3)"
   ]
  },
  {
   "cell_type": "markdown",
   "id": "19046c88",
   "metadata": {},
   "source": [
    "Great job! Notice that your method compares just the account numbers, but not balances. What would happen if two accounts have the same account number but different balances? The code you wrote will treat these accounts as equal, but it might be better to throw an error - an _exception_ - instead, informing the user that something is wrong. At the end of the chapter, you'll learn how to define your own exception classes to create these kinds of custom errors."
   ]
  },
  {
   "cell_type": "markdown",
   "id": "ebf60a9e",
   "metadata": {},
   "source": [
    "### Checking class equality"
   ]
  },
  {
   "cell_type": "markdown",
   "id": "423329ef",
   "metadata": {},
   "source": [
    "In the previous exercise, you defined a *BankAccount* class with a *number* attribute that was used for comparison. But if you were to compare a BankAccount object to an object of another class that also has a *number* attribute, you could end up with unexpected results.\n",
    "\n",
    "For example, consider two classes"
   ]
  },
  {
   "cell_type": "code",
   "execution_count": 28,
   "id": "1b77c5cf",
   "metadata": {},
   "outputs": [],
   "source": [
    "class Phone:\n",
    "    def __init__(self, number):\n",
    "        self.number = number\n",
    "\n",
    "    def __eq__(self, other):\n",
    "        return self.number == other.number\n",
    "\n",
    "pn = Phone(873555333)"
   ]
  },
  {
   "cell_type": "code",
   "execution_count": 29,
   "id": "7e077d91",
   "metadata": {},
   "outputs": [],
   "source": [
    "class BankAccount:\n",
    "    def __init__(self, number):\n",
    "        self.number = number\n",
    "    \n",
    "    def __eq__(self, other):\n",
    "        return self.number == other.number\n",
    "\n",
    "acct = BankAccount(873555333)"
   ]
  },
  {
   "cell_type": "code",
   "execution_count": 30,
   "id": "27b78d15",
   "metadata": {},
   "outputs": [
    {
     "data": {
      "text/plain": [
       "True"
      ]
     },
     "execution_count": 30,
     "metadata": {},
     "output_type": "execute_result"
    }
   ],
   "source": [
    "acct == pn"
   ]
  },
  {
   "cell_type": "markdown",
   "id": "d0cfda70",
   "metadata": {},
   "source": [
    "Running *acct == pn* will return True, even though we're comparing a phone number with a bank account number.\n",
    "\n",
    "It is good practice to check the class of objects passed to the \\__eq\\__() method to make sure the comparison makes sense."
   ]
  },
  {
   "cell_type": "code",
   "execution_count": 31,
   "id": "c0756ccb",
   "metadata": {},
   "outputs": [
    {
     "name": "stdout",
     "output_type": "stream",
     "text": [
      "False\n"
     ]
    }
   ],
   "source": [
    "class BankAccount:\n",
    "    def __init__(self, number, balance=0):\n",
    "        self.number, self.balance = number, balance\n",
    "      \n",
    "    def withdraw(self, amount):\n",
    "        self.balance -= amount \n",
    "\n",
    "    # MODIFY to add a check for the type()\n",
    "    def __eq__(self, other):\n",
    "        return (self.number == other.number) and (type(self) == type(other))    \n",
    "\n",
    "acct = BankAccount(873555333)      \n",
    "pn = Phone(873555333)\n",
    "print(acct == pn)"
   ]
  },
  {
   "cell_type": "markdown",
   "id": "87ef8903",
   "metadata": {},
   "source": [
    "Perfect! Now only comparing objects of the same class *BankAccount* could return *True*. Another way to ensure that an object has the same type as you expect is to use the *isinstance(obj, Class)* function. This can helpful when handling inheritance, as Python considers an object to be an instance of both the parent and the child class. Try running *pn == acct* in the console (with reversed order of equality). What does this tell you about the \\__eq\\__() method?"
   ]
  },
  {
   "cell_type": "code",
   "execution_count": 32,
   "id": "578947d0",
   "metadata": {},
   "outputs": [
    {
     "name": "stdout",
     "output_type": "stream",
     "text": [
      "True\n"
     ]
    }
   ],
   "source": [
    "print(pn == acct)"
   ]
  },
  {
   "cell_type": "markdown",
   "id": "308170d3",
   "metadata": {},
   "source": [
    "### Comparison and inheritance"
   ]
  },
  {
   "cell_type": "markdown",
   "id": "053446a4",
   "metadata": {},
   "source": [
    "What happens when an object is compared to an object of a child class? Consider the following two classes:"
   ]
  },
  {
   "cell_type": "code",
   "execution_count": 33,
   "id": "d5cecd5a",
   "metadata": {},
   "outputs": [],
   "source": [
    "class Parent:\n",
    "    def __eq__(self, other):\n",
    "        print(\"Parent's __eq__() called\")\n",
    "        return True"
   ]
  },
  {
   "cell_type": "code",
   "execution_count": 34,
   "id": "0955fbdb",
   "metadata": {},
   "outputs": [],
   "source": [
    "class Child(Parent):\n",
    "    def __eq__(self, other):\n",
    "        print(\"Child's __eq__() called\")\n",
    "        return True"
   ]
  },
  {
   "cell_type": "markdown",
   "id": "8599bfe5",
   "metadata": {},
   "source": [
    "The Child class inherits from the Parent class, and both implement the \\__eq\\__() method that includes a diagnostic printout.\n",
    "\n",
    "Which \\__eq\\__() method will be called when the following code is run?\n",
    "\n"
   ]
  },
  {
   "cell_type": "code",
   "execution_count": 35,
   "id": "c6662ecd",
   "metadata": {},
   "outputs": [
    {
     "name": "stdout",
     "output_type": "stream",
     "text": [
      "Child's __eq__() called\n"
     ]
    },
    {
     "data": {
      "text/plain": [
       "True"
      ]
     },
     "execution_count": 35,
     "metadata": {},
     "output_type": "execute_result"
    }
   ],
   "source": [
    "p = Parent()\n",
    "c = Child()\n",
    "\n",
    "p == c "
   ]
  },
  {
   "cell_type": "markdown",
   "id": "c0377f26",
   "metadata": {},
   "source": [
    "Python always calls the _child's_ \\__eq\\__() method when comparing a child object to a parent object."
   ]
  },
  {
   "cell_type": "markdown",
   "id": "71c530c9",
   "metadata": {},
   "source": [
    "### String formatting review"
   ]
  },
  {
   "cell_type": "markdown",
   "id": "84020f61",
   "metadata": {},
   "source": [
    "Before you start defining custom string representations for objects, make sure you are comfortable working with strings and formatting them. If you need a refresher, take a minute to look through the [official Python tutorial on string formatting](https://docs.python.org/3/library/stdtypes.html#str.format).\n",
    "\n",
    "In this exercise, consider the following code."
   ]
  },
  {
   "cell_type": "code",
   "execution_count": 36,
   "id": "ab0eb309",
   "metadata": {},
   "outputs": [
    {
     "name": "stdout",
     "output_type": "stream",
     "text": [
      "my_num is 5, and my_str is \"Hello\".\n"
     ]
    }
   ],
   "source": [
    "my_num = 5\n",
    "my_str = \"Hello\"\n",
    "\n",
    "f = \"my_num is {}, and my_str is \\\"{}\\\".\".format(my_num, my_str)\n",
    "print(f)"
   ]
  },
  {
   "cell_type": "markdown",
   "id": "53706b52",
   "metadata": {},
   "source": [
    "Here are a few possible variants for the definition of f:\n",
    "\n",
    "1.\n",
    "\n",
    "f = \"my_num is {0}, and my_str is {1}.\".format(my_num, my_str)\n",
    " \n",
    "2.\n",
    "\n",
    "f = \"my_num is {}, and my_str is \\\"{}\\\".\".format(my_num, my_str)\n",
    "\n",
    "3.\n",
    "\n",
    "f = \"my_num is {n}, and my_str is '{s}'.\".format(n=my_num, s=my_str)\n",
    "\n",
    "4.\n",
    "\n",
    "f = \"my_num is {my_num}, and my_str is '{my_str}'.\".format()"
   ]
  },
  {
   "cell_type": "markdown",
   "id": "2dbd6c8c",
   "metadata": {},
   "source": [
    "To recap: to format a string with variables, you can either use keyword arguments in **.format** ('Insert {n} here'.format(n=num)), refer to them by position index explicitly (like 'Insert {0} here'.format(num)) or implicitly (like 'Insert {} here'.format(num)). You can use double quotation marks inside single quotation marks and the way around, but to nest the same set of quotation marks, you need to escape them with a slash like \\\\\"."
   ]
  },
  {
   "cell_type": "markdown",
   "id": "90c0d4ee",
   "metadata": {},
   "source": [
    "### String representation of objects"
   ]
  },
  {
   "cell_type": "markdown",
   "id": "cbd1a94f",
   "metadata": {},
   "source": [
    "There are two special methods in Python that return a string representation of an object. **\\__str\\__()** is called when you use print() or str() on an object, and **\\__repr\\__()** is called when you use repr() on an object, print the object in the console without calling print(), or instead of \\__str\\__() if \\__str\\__() is not defined.\n",
    "\n",
    "**\\__str\\__()** is supposed to provide a \"user-friendly\" output describing an object, and **\\__repr\\__()** should return the expression that, when evaluated, will return the same object, ensuring the reproducibility of your code."
   ]
  },
  {
   "cell_type": "code",
   "execution_count": 37,
   "id": "5000c41a",
   "metadata": {},
   "outputs": [
    {
     "name": "stdout",
     "output_type": "stream",
     "text": [
      "Employee name: Amar Howard\n",
      "Employee salary: 30000\n",
      "Employee name: Carolyn Ramirez\n",
      "Employee salary: 35000\n"
     ]
    }
   ],
   "source": [
    "class Employee:\n",
    "    def __init__(self, name, salary=30000):\n",
    "        self.name, self.salary = name, salary\n",
    "      \n",
    "    # Add the __str__() method\n",
    "    def __str__(self):\n",
    "        s = \"Employee name: {name}\\nEmployee salary: {salary}\".format(name=self.name, salary=self.salary)      \n",
    "        return s\n",
    "\n",
    "emp1 = Employee(\"Amar Howard\", 30000)\n",
    "print(emp1)\n",
    "emp2 = Employee(\"Carolyn Ramirez\", 35000)\n",
    "print(emp2)"
   ]
  },
  {
   "cell_type": "code",
   "execution_count": 38,
   "id": "ba313a07",
   "metadata": {},
   "outputs": [
    {
     "name": "stdout",
     "output_type": "stream",
     "text": [
      "Employee(\"Amar Howard\", 30000)\n",
      "Employee(\"Carolyn Ramirez\", 35000)\n"
     ]
    }
   ],
   "source": [
    "class Employee:\n",
    "    def __init__(self, name, salary=30000):\n",
    "        self.name, self.salary = name, salary\n",
    "      \n",
    "\n",
    "    def __str__(self):\n",
    "        s = \"Employee name: {name}\\nEmployee salary: {salary}\".format(name=self.name, salary=self.salary)      \n",
    "        return s\n",
    "      \n",
    "    # Add the __repr__method  \n",
    "    def __repr__(self):\n",
    "        s = \"Employee(\\\"{name}\\\", {salary})\".format(name=self.name, salary=self.salary)      \n",
    "        return s      \n",
    "\n",
    "emp1 = Employee(\"Amar Howard\", 30000)\n",
    "print(repr(emp1))\n",
    "emp2 = Employee(\"Carolyn Ramirez\", 35000)\n",
    "print(repr(emp2))"
   ]
  },
  {
   "cell_type": "markdown",
   "id": "932a81ed",
   "metadata": {},
   "source": [
    "You should always define at least one of the string representation methods for your object to make sure that the person using your class can get important information about the object easily."
   ]
  },
  {
   "cell_type": "markdown",
   "id": "e94120a1",
   "metadata": {},
   "source": [
    "### Exception handling"
   ]
  },
  {
   "cell_type": "markdown",
   "id": "4e9bcf5d",
   "metadata": {},
   "source": [
    "- Prevent the program from terminating when an exception is raised\n",
    "- try - except - finally :\n",
    "\n",
    "**try:**\n",
    "\n",
    "  #Try running some code\n",
    " \n",
    "**except ExceptionNameHere:**\n",
    "  \n",
    "  #Run this code if ExceptionNameHere happens\n",
    "\n",
    "**except AnotherExceptionHere:** #<-- multiple except block\n",
    "\n",
    "  #Run this code if AnotherExceptionHere happens\n",
    "\n",
    "...\n",
    "\n",
    "**finally:**           #<-- optional\n",
    "\n",
    "   #Run this code no matter what\n"
   ]
  },
  {
   "cell_type": "markdown",
   "id": "c9ebda29",
   "metadata": {},
   "source": [
    "### Raising exceptions"
   ]
  },
  {
   "cell_type": "markdown",
   "id": "8a5f313d",
   "metadata": {},
   "source": [
    "- raise ExceptionNameHere('Error message here')"
   ]
  },
  {
   "cell_type": "code",
   "execution_count": 39,
   "id": "e26edf6f",
   "metadata": {},
   "outputs": [],
   "source": [
    "def make_list_of_ones(length):\n",
    "    if length <= 0:\n",
    "        raise ValueError(\"Invalid length!\") # <--- Will stop the program and raise an error\n",
    "    return [1]*length"
   ]
  },
  {
   "cell_type": "markdown",
   "id": "57ee5b65",
   "metadata": {},
   "source": [
    "### Exceptions are classes"
   ]
  },
  {
   "cell_type": "markdown",
   "id": "2415a734",
   "metadata": {},
   "source": [
    "- standard exceptions are inherited from BaseException or Exception"
   ]
  },
  {
   "cell_type": "markdown",
   "id": "3c4b035d",
   "metadata": {},
   "source": [
    "- BaseException\n",
    "- +-- Exception\n",
    "    - +-- ArithmeticError # <---\n",
    "        - | +-- FloatingPointError\n",
    "        - | +-- OverflowError\n",
    "        - | +-- ZeroDivisionError # <---\n",
    "    - +-- TypeError\n",
    "    - +-- ValueError\n",
    "        - | +-- UnicodeError\n",
    "            - | +-- UnicodeDecodeError\n",
    "            - | +-- UnicodeEncodeError\n",
    "            - | +-- UnicodeTranslateError\n",
    "    - +-- RuntimeError\n",
    "    - ...\n",
    "- +-- SystemExit\n",
    "- ..."
   ]
  },
  {
   "cell_type": "markdown",
   "id": "12a75b03",
   "metadata": {},
   "source": [
    "### Custom exceptions"
   ]
  },
  {
   "cell_type": "markdown",
   "id": "c55fe754",
   "metadata": {},
   "source": [
    "- Inherit from **Exception** or one of its subclasses\n",
    "- Usually an empty class"
   ]
  },
  {
   "cell_type": "code",
   "execution_count": 40,
   "id": "24be8669",
   "metadata": {},
   "outputs": [],
   "source": [
    "class BalanceError(Exception): pass"
   ]
  },
  {
   "cell_type": "code",
   "execution_count": 41,
   "id": "6a46aeb0",
   "metadata": {},
   "outputs": [],
   "source": [
    "class Customer:\n",
    "    def __init__(self, name, balance):\n",
    "        if balance < 0 :\n",
    "            raise BalanceError(\"Balance has to be non-negative!\")\n",
    "        else:\n",
    "            self.name, self.balance = name, balance"
   ]
  },
  {
   "cell_type": "markdown",
   "id": "0fbff90d",
   "metadata": {},
   "source": [
    "### Catching custom exceptions"
   ]
  },
  {
   "cell_type": "code",
   "execution_count": 42,
   "id": "33126c18",
   "metadata": {},
   "outputs": [],
   "source": [
    "try:\n",
    "    cust = Customer(\"Larry Torres\",-100)\n",
    "except BalanceError:\n",
    "    cust = Customer(\"Larry Torres\", 0)"
   ]
  },
  {
   "cell_type": "markdown",
   "id": "4a90942c",
   "metadata": {},
   "source": [
    "### Catching exceptions"
   ]
  },
  {
   "cell_type": "markdown",
   "id": "deabcffc",
   "metadata": {},
   "source": [
    "Before you start writing your own custom exceptions, let's make sure you have the basics of handling exceptions down.\n",
    "\n",
    "In this exercise, you are given a function *invert_at_index(x, ind)* that takes two arguments, a list *x* and an index *ind*, and inverts the element of the list at that index. For example *invert_at_index([5,6,7], 1)* returns *1/6*, or *0.166666* .\n",
    "\n",
    "Try running the code as-is and examine the output in the console. There are two unsafe operations in this function: first, if the element that we're trying to invert has the value 0, then the code will cause a *ZeroDivisionError* exception. Second, if the index passed to the function is out of range for the list, the code will cause a *IndexError*. In both cases, the script will be interrupted, which might not be desirable."
   ]
  },
  {
   "cell_type": "code",
   "execution_count": 43,
   "id": "2287d36d",
   "metadata": {},
   "outputs": [
    {
     "name": "stdout",
     "output_type": "stream",
     "text": [
      "0.16666666666666666\n",
      "Cannot divide by zero!\n",
      "None\n",
      "Index out of range!\n",
      "None\n"
     ]
    }
   ],
   "source": [
    "# MODIFY the function to catch exceptions\n",
    "def invert_at_index(x, ind):\n",
    "    try:\n",
    "        return 1/x[ind]\n",
    "    except ZeroDivisionError:\n",
    "        print(\"Cannot divide by zero!\")\n",
    "    except IndexError:\n",
    "        print(\"Index out of range!\")\n",
    "\n",
    "a = [5,6,0,7]\n",
    "\n",
    "# Works okay\n",
    "print(invert_at_index(a, 1))\n",
    "\n",
    "# Potential ZeroDivisionError\n",
    "print(invert_at_index(a, 2))\n",
    "\n",
    "# Potential IndexError\n",
    "print(invert_at_index(a, 5))"
   ]
  },
  {
   "cell_type": "markdown",
   "id": "b6ea40ab",
   "metadata": {},
   "source": [
    "Of course, this is only a toy example to illustrate the structure: you can do much more in the except block than just print a message. For example, it might make sense for a function to return a special value when an error occurs. It's important to note, though, that this code will only be able to handle the two particular errors specified in the except blocks. Any other error would still terminate the program."
   ]
  },
  {
   "cell_type": "markdown",
   "id": "e1112cb8",
   "metadata": {},
   "source": [
    "### Custom exceptions"
   ]
  },
  {
   "cell_type": "markdown",
   "id": "b66b1b8e",
   "metadata": {},
   "source": [
    "You don't have to rely solely on built-in exceptions like IndexError: you can define your own exceptions more specific to your application. You can also define exception hierarchies. All you need to define an exception is a class inherited from the built-in Exception class or one of its subclasses.\n",
    "\n",
    "In Chapter 1, you defined an Employee class and used print statements and default values to handle errors like creating an employee with a salary below the minimum or giving a raise that is too big. A better way to handle this situation is to use exceptions. Because these errors are specific to our application (unlike, for example, a division by zero error which is universal), it makes sense to use custom exception classes."
   ]
  },
  {
   "cell_type": "code",
   "execution_count": 44,
   "id": "d171a84f",
   "metadata": {},
   "outputs": [],
   "source": [
    "class SalaryError(ValueError): pass\n",
    "class BonusError(SalaryError): pass\n",
    "\n",
    "class Employee:\n",
    "    MIN_SALARY = 30000\n",
    "    MAX_BONUS = 5000\n",
    "\n",
    "    def __init__(self, name, salary = 30000):\n",
    "        self.name = name    \n",
    "        if salary < Employee.MIN_SALARY:\n",
    "            raise SalaryError(\"Salary is too low!\")      \n",
    "        self.salary = salary\n",
    "    \n",
    "  # Rewrite using exceptions  \n",
    "    def give_bonus(self, amount):\n",
    "        if amount > Employee.MAX_BONUS:\n",
    "            raise BonusError(\"The bonus amount is too high!\")  \n",
    "        \n",
    "        elif self.salary + amount <  Employee.MIN_SALARY:\n",
    "            raise SalaryError(\"The salary after bonus is too low!\")\n",
    "      \n",
    "        else:  \n",
    "            self.salary += amount"
   ]
  },
  {
   "cell_type": "code",
   "execution_count": 45,
   "id": "344aaf39",
   "metadata": {},
   "outputs": [],
   "source": [
    "#SalaryError\n",
    "#print(Employee(\"Anna\", 10000))"
   ]
  },
  {
   "cell_type": "code",
   "execution_count": 46,
   "id": "6500ed8c",
   "metadata": {},
   "outputs": [],
   "source": [
    "#BonusError\n",
    "#emp = Employee(\"Anna\", 40000)\n",
    "#emp.give_bonus(6000)\n",
    "#print(emp.salary)"
   ]
  },
  {
   "cell_type": "markdown",
   "id": "13abae37",
   "metadata": {},
   "source": [
    "Notice that if you raise an exception inside an if statement, you don't need to add an else branch to run the rest of the code. Because raise terminates the function, the code after raise will only be executed if an exception did not occur."
   ]
  },
  {
   "cell_type": "markdown",
   "id": "3bbeaab7",
   "metadata": {},
   "source": [
    "### Handling exception hierarchies"
   ]
  },
  {
   "cell_type": "markdown",
   "id": "d8c410e6",
   "metadata": {},
   "source": [
    "Previously, you defined an Employee class with a method get_bonus() that raises a BonusError and a SalaryError depending on parameters. But the BonusError exception was inherited from the SalaryError exception. How does exception inheritance affect exception handling?"
   ]
  },
  {
   "cell_type": "markdown",
   "id": "da521890",
   "metadata": {},
   "source": [
    "\n",
    "except block for a parent exception will catch child exceptions"
   ]
  },
  {
   "cell_type": "markdown",
   "id": "7c33c369",
   "metadata": {},
   "source": [
    "It's better to include an except block for a child exception before the block for a parent exception, otherwise the child exceptions will be always be caught in the parent block, and the except block for the child will never be executed."
   ]
  },
  {
   "cell_type": "code",
   "execution_count": 47,
   "id": "35af8674",
   "metadata": {},
   "outputs": [
    {
     "name": "stdout",
     "output_type": "stream",
     "text": [
      "SalaryError caught\n"
     ]
    }
   ],
   "source": [
    "\n",
    "emp = Employee(\"Katze Rik\", 50000)\n",
    "try:\n",
    "    emp.give_bonus(7000)\n",
    "except SalaryError:\n",
    "    print(\"SalaryError caught\")\n",
    "except BonusError:\n",
    "    print(\"BonusError caught\")"
   ]
  },
  {
   "cell_type": "code",
   "execution_count": 48,
   "id": "a64d3203",
   "metadata": {},
   "outputs": [
    {
     "name": "stdout",
     "output_type": "stream",
     "text": [
      "BonusError caught\n"
     ]
    }
   ],
   "source": [
    "emp = Employee(\"Katze Rik\", 50000)\n",
    "try:\n",
    "    emp.give_bonus(7000)\n",
    "except BonusError:\n",
    "    print(\"BonusError caught\")\n",
    "except SalaryError:\n",
    "    print(\"SalaryError caught\")"
   ]
  },
  {
   "cell_type": "markdown",
   "id": "87d8f9a5",
   "metadata": {},
   "source": [
    " It's better to list the except blocks in the increasing order of specificity, i.e. children before parents, otherwise the child exception will be called in the parent except block."
   ]
  },
  {
   "cell_type": "markdown",
   "id": "98b9d342",
   "metadata": {},
   "source": [
    "## Chapter 4 Best Practices of Class Design"
   ]
  },
  {
   "cell_type": "markdown",
   "id": "2a2942cb",
   "metadata": {},
   "source": [
    "#### Liskov substitution principle\n",
    "\n",
    "Base class should be interchangeable with any of its subclasses without altering any properties of the program.\n",
    "\n",
    "**Syntactically**\n",
    "\n",
    "- function signatures are compatible arguments, returned values\n",
    "\n",
    "\n",
    "**Semantically**\n",
    "\n",
    "- the state of the object and the program remains consistent\n",
    "- subclass method doesn't strengthen input conditions\n",
    "- subclass method doesn't weaken output conditions\n",
    "- no additional exceptions\n"
   ]
  },
  {
   "cell_type": "markdown",
   "id": "689bb415",
   "metadata": {},
   "source": [
    "**Violating LSP**\n",
    "\n",
    "**→ Syntactic incompatibility**\n",
    " \n",
    " BankAccount.withdraw() requires 1 parameter, but CheckingAccount.withdraw() requires 2\n",
    "\n",
    "**→ Subclass strengthening input conditions**\n",
    "\n",
    "BankAccount.withdraw() accepts any amount, but CheckingAccount.withdraw() assumes that the amount is limited\n",
    "\n",
    "**→ Subclass weakening output conditions**\n",
    "\n",
    "BankAccount.withdraw() can only leave a positive balance or cause an error, CheckingAccount.withdraw() can leave balance negative\n",
    "\n",
    "→ Changing additional attributes in subclass's method\n",
    "\n",
    "→ Throwing additional exceptions in subclass's method"
   ]
  },
  {
   "cell_type": "markdown",
   "id": "d996ab64",
   "metadata": {},
   "source": [
    "**No LSP – No Inheritance**"
   ]
  },
  {
   "cell_type": "markdown",
   "id": "ae5ec3a1",
   "metadata": {},
   "source": [
    "Square and rectangle\n",
    "\n",
    "The classic example of a problem that violates the Liskov Substitution Principle is the [Circle-Ellipse problem](https://en.wikipedia.org/wiki/Circle%E2%80%93ellipse_problem), sometimes called the Square-Rectangle problem.\n",
    "\n",
    "By all means, it seems like you should be able to define a class Rectangle, with attributes h and w (for height and width), and then define a class Square that inherits from the Rectangle. After all, a square \"is-a\" rectangle!\n",
    "\n",
    "Unfortunately, this intuition doesn't apply to object-oriented design."
   ]
  },
  {
   "cell_type": "code",
   "execution_count": 49,
   "id": "08926cd8",
   "metadata": {},
   "outputs": [],
   "source": [
    "# Define a Rectangle class\n",
    "class Rectangle:\n",
    "    def __init__(self, h, w):\n",
    "        self.h, self.w = h, w\n",
    "\n",
    "# Define a Square class\n",
    "class Square(Rectangle):\n",
    "    def __init__(self, w):\n",
    "        self.h, self.w = w, w"
   ]
  },
  {
   "cell_type": "code",
   "execution_count": 50,
   "id": "be96e667",
   "metadata": {},
   "outputs": [],
   "source": [
    "class Rectangle:\n",
    "    def __init__(self, w,h):\n",
    "        self.w, self.h = w,h\n",
    "\n",
    "#Define set_h to set h       \n",
    "    def set_h(self, h):\n",
    "        self.h = h\n",
    "\n",
    "# Define set_w to set w\n",
    "    def set_w(self, w):\n",
    "        self.w = w   \n",
    "\n",
    "class Square(Rectangle):\n",
    "    def __init__(self, w):\n",
    "        self.w, self.h = w, w \n",
    "\n",
    "# Define set_h to set w and h \n",
    "    def set_h(self, h):\n",
    "        self.h = h\n",
    "        self.w = h\n",
    "\n",
    "# Define set_w to set w and h \n",
    "    def set_w(self, w):\n",
    "        self.w = w   \n",
    "        self.h = w"
   ]
  },
  {
   "cell_type": "markdown",
   "id": "de2a53b1",
   "metadata": {},
   "source": [
    "How does using these setter methods violate Liskov Substitution principle?\n",
    "\n",
    "Each of the setter methods of Square change both h and w attributes, while setter methods of Rectangle change only one attribute at a time, so the Square objects cannot be substituted for Rectangle into programs that rely on one attribute staying constant."
   ]
  },
  {
   "cell_type": "markdown",
   "id": "74c9d7e8",
   "metadata": {},
   "source": [
    "Correct! Remember that the substitution principle requires the substitution to preserve the oversall state of the program. An example of a program that would fail when this substitution is made is a unit test for a setter functions in Rectangle class."
   ]
  },
  {
   "cell_type": "markdown",
   "id": "e7ee6f86",
   "metadata": {},
   "source": [
    "### Managing data access: private attributes\n",
    "\n",
    "**Restricting access**\n",
    "\n",
    "- Naming conventions\n",
    "- Use @property to customize access\n",
    "- Overriding \\__getattr\\__() and \\__setattr\\__()"
   ]
  },
  {
   "cell_type": "markdown",
   "id": "d3469c2b",
   "metadata": {},
   "source": [
    "**Naming convention: internal attributes**\n",
    "\n",
    "obj._att_name, obj._method_name()\n",
    "\n",
    "- Starts with a single _ → \"internal\"\n",
    "- Not a part of the public API\n",
    "- As a class user: \"don't touch this\"\n",
    "- As a class developer: use for implementation details, helper functions..\n",
    "\n",
    "df._is_mixed_type , datetime._ymd2ord()"
   ]
  },
  {
   "cell_type": "markdown",
   "id": "45053443",
   "metadata": {},
   "source": [
    "### Using internal attributes"
   ]
  },
  {
   "cell_type": "markdown",
   "id": "fdee239f",
   "metadata": {},
   "source": [
    "- Add a class attribute _MAX_DAYS storing the maximal number of days in a month - 31.\n",
    "- Add another class attribute storing the maximal number of months in a year - 12. Use the appropriate naming convention to indicate that this is an internal attribute.\n",
    "- Add an _is_valid() method that returns True if the day and month attributes are less than or equal to the corresponding maximum values, and False otherwise. Make sure to refer to the class attributes by their names!"
   ]
  },
  {
   "cell_type": "code",
   "execution_count": 51,
   "id": "b96f7d83",
   "metadata": {},
   "outputs": [
    {
     "name": "stdout",
     "output_type": "stream",
     "text": [
      "True\n",
      "False\n"
     ]
    }
   ],
   "source": [
    "# Add class attributes for max number of days and months\n",
    "class BetterDate:\n",
    "    _MAX_DAYS = 31\n",
    "    _MAX_MONTHS = 12\n",
    "    \n",
    "    def __init__(self, year, month, day):\n",
    "        self.year, self.month, self.day = year, month, day\n",
    "        \n",
    "    @classmethod\n",
    "    def from_str(cls, datestr):\n",
    "        year, month, day = map(int, datestr.split(\"-\"))\n",
    "        return cls(year, month, day)\n",
    "        \n",
    "    # Add _is_valid() checking day and month values\n",
    "    def _is_valid(self):\n",
    "        return (self.day <= BetterDate._MAX_DAYS) and \\\n",
    "               (self.month <= BetterDate._MAX_MONTHS)\n",
    "        \n",
    "bd1 = BetterDate(2020, 4, 30)\n",
    "print(bd1._is_valid())\n",
    "\n",
    "bd2 = BetterDate(2020, 6, 45)\n",
    "print(bd2._is_valid())"
   ]
  },
  {
   "cell_type": "markdown",
   "id": "c0a459c9",
   "metadata": {},
   "source": [
    "Great job! Notice that you were still able to use the _is_valid() method as usual. The single underscore naming convention is purely a convention, and Python doesn't do anything special with such attributes and methods behind the scenes. That convention is widely followed, though, so if you see an attribute name with one leading underscore in someone's class - don't use it! The class developer trusts you with this responsibility."
   ]
  },
  {
   "cell_type": "markdown",
   "id": "e806e89a",
   "metadata": {},
   "source": [
    "### Properties"
   ]
  },
  {
   "cell_type": "markdown",
   "id": "53ae1832",
   "metadata": {},
   "source": [
    "Properties control only one specific attribute that they're attached to."
   ]
  },
  {
   "cell_type": "markdown",
   "id": "64c4df03",
   "metadata": {},
   "source": [
    "### Create and set properties"
   ]
  },
  {
   "cell_type": "markdown",
   "id": "b1c7c6cf",
   "metadata": {},
   "source": [
    "There are two parts to defining a property:\n",
    "\n",
    "- first, define an \"internal\" attribute that will contain the data;\n",
    "- then, define a @property-decorated method whose name is the property name, and that returns the internal attribute storing the data.\n",
    "\n",
    "If you'd also like to define a custom setter method, there's an additional step:\n",
    "\n",
    "- define another method whose name is exactly the property name (again), and decorate it with @prop_name.setter where prop_name is the name of the property. The method should take two arguments -- self (as always), and the value that's being assigned to the property."
   ]
  },
  {
   "cell_type": "code",
   "execution_count": 1,
   "id": "4d5d1fcb",
   "metadata": {},
   "outputs": [
    {
     "name": "stdout",
     "output_type": "stream",
     "text": [
      "Setter method called\n",
      "3000\n"
     ]
    }
   ],
   "source": [
    "class Customer:\n",
    "    def __init__(self, name, new_bal):\n",
    "        self.name = name\n",
    "        if new_bal < 0:\n",
    "            raise ValueError(\"Invalid balance!\")\n",
    "        self._balance = new_bal  \n",
    "\n",
    "    # Add a decorated balance() method returning _balance        \n",
    "    @property\n",
    "    def balance(self):\n",
    "        return self._balance\n",
    "\n",
    "    # Add a setter balance() method\n",
    "    @balance.setter\n",
    "    def balance(self, new_bal):\n",
    "        # Validate the parameter value\n",
    "        if new_bal < 0:\n",
    "            raise ValueError(\"Invalid balance!\")\n",
    "        self._balance = new_bal\n",
    "        print(\"Setter method called\")\n",
    "        \n",
    "# Create a Customer        \n",
    "cust = Customer(\"Belinda Lutz\", 2000)\n",
    "\n",
    "# Assign 3000 to the balance property\n",
    "cust.balance = 3000\n",
    "\n",
    "# Print the balance property\n",
    "print(cust.balance)"
   ]
  },
  {
   "cell_type": "markdown",
   "id": "55e7a7bf",
   "metadata": {},
   "source": [
    "Now the user of your Customer class won't be able to assign arbitrary values to the customers' balance. You could also add a custom _getter_ method (with a decorator @balance.getter) that returns a value and gets executed every time the attribute is accessed."
   ]
  },
  {
   "cell_type": "markdown",
   "id": "e120f1cd",
   "metadata": {},
   "source": [
    "### Read-only properties"
   ]
  },
  {
   "cell_type": "markdown",
   "id": "3294eac5",
   "metadata": {},
   "source": [
    "The *LoggedDF* class from Chapter 2 was an extension of the pandas DataFrame class that had an additional *created_at* attribute that stored the timestamp when the DataFrame was created, so that the user could see how out-of-date the data is.\n",
    "\n",
    "But that class wasn't very useful: we could just assign any value to *created_at* after the DataFrame was created, thus defeating the whole point of the attribute! Now, using properties, we can make the attribute read-only."
   ]
  },
  {
   "cell_type": "code",
   "execution_count": 2,
   "id": "9152dcf9",
   "metadata": {},
   "outputs": [],
   "source": [
    "import pandas as pd\n",
    "from datetime import datetime\n",
    "\n",
    "# MODIFY the class to use _created_at instead of created_at\n",
    "class LoggedDF(pd.DataFrame):\n",
    "    def __init__(self, *args, **kwargs):\n",
    "        pd.DataFrame.__init__(self, *args, **kwargs)\n",
    "        self._created_at = datetime.today()\n",
    "    \n",
    "    def to_csv(self, *args, **kwargs):\n",
    "        temp = self.copy()\n",
    "        temp[\"created_at\"] = self._created_at\n",
    "        pd.DataFrame.to_csv(temp, *args, **kwargs)   \n",
    "    \n",
    "    # Add a read-only property: _created_at\n",
    "    @property  \n",
    "    def created_at(self):\n",
    "        return self._created_at\n",
    "\n",
    "# Instantiate a LoggedDF called ldf\n",
    "ldf = LoggedDF({\"col1\": [1,2], \"col2\":[3,4]}) "
   ]
  },
  {
   "cell_type": "markdown",
   "id": "4d4aa600",
   "metadata": {},
   "source": [
    "What happens when you assign '2035-07-13' to ldf.created_at?\n",
    "\n",
    "An *AttributeError* is thrown since *ldf.created_at* is read-only."
   ]
  },
  {
   "cell_type": "markdown",
   "id": "73eac3cd",
   "metadata": {},
   "source": [
    "You've put it all together! Notice that the **to_csv()** method in the original class was using the original *created_at* attribute. After converting the attribute into a property, you could replace the call to *self.created_at* with the call to the internal attribute that's attached to the property, or you could keep it as *self.created_at*, in which case you'll now be accessing the property. Either way works!"
   ]
  },
  {
   "cell_type": "code",
   "execution_count": null,
   "id": "4b6f82c8",
   "metadata": {},
   "outputs": [],
   "source": []
  }
 ],
 "metadata": {
  "kernelspec": {
   "display_name": "Python 3 (ipykernel)",
   "language": "python",
   "name": "python3"
  },
  "language_info": {
   "codemirror_mode": {
    "name": "ipython",
    "version": 3
   },
   "file_extension": ".py",
   "mimetype": "text/x-python",
   "name": "python",
   "nbconvert_exporter": "python",
   "pygments_lexer": "ipython3",
   "version": "3.11.5"
  }
 },
 "nbformat": 4,
 "nbformat_minor": 5
}
